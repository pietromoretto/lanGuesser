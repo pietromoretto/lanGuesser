{
  "nbformat": 4,
  "nbformat_minor": 0,
  "metadata": {
    "colab": {
      "name": "lanGuesser.ipynb",
      "version": "0.3.2",
      "provenance": []
    },
    "kernelspec": {
      "name": "python3",
      "display_name": "Python 3"
    }
  },
  "cells": [
    {
      "cell_type": "code",
      "metadata": {
        "id": "V_-ESGicRrz6",
        "colab_type": "code",
        "colab": {}
      },
      "source": [
        "import tensorflow as tf \n",
        "import pandas as pd\n",
        "import numpy as np \n",
        "\n",
        "from sklearn.preprocessing import LabelBinarizer\n",
        "from sklearn.utils import shuffle"
      ],
      "execution_count": 0,
      "outputs": []
    },
    {
      "cell_type": "code",
      "metadata": {
        "id": "krr-IGjBaZ6Z",
        "colab_type": "code",
        "outputId": "062889a3-66ba-42cb-fd2d-1b62df165078",
        "colab": {
          "base_uri": "https://localhost:8080/",
          "height": 71
        }
      },
      "source": [
        "# Download the dataset from GitHub repo\n",
        "\n",
        "!curl -O https://media.githubusercontent.com/media/pietromoretto/lanGuesser/master/dataset.csv"
      ],
      "execution_count": 3,
      "outputs": [
        {
          "output_type": "stream",
          "text": [
            "  % Total    % Received % Xferd  Average Speed   Time    Time     Time  Current\n",
            "                                 Dload  Upload   Total   Spent    Left  Speed\n",
            "100  109M  100  109M    0     0  40.4M      0  0:00:02  0:00:02 --:--:-- 40.3M\n"
          ],
          "name": "stdout"
        }
      ]
    },
    {
      "cell_type": "code",
      "metadata": {
        "id": "5ttzjmpDUc_Y",
        "colab_type": "code",
        "outputId": "260a39bd-070d-469a-90e1-d9ff7dac4b37",
        "colab": {
          "base_uri": "https://localhost:8080/",
          "height": 35
        }
      },
      "source": [
        "!ls"
      ],
      "execution_count": 2,
      "outputs": [
        {
          "output_type": "stream",
          "text": [
            "sample_data\n"
          ],
          "name": "stdout"
        }
      ]
    },
    {
      "cell_type": "code",
      "metadata": {
        "id": "iM04PZZJK-Fq",
        "colab_type": "code",
        "colab": {}
      },
      "source": [
        "convert = {\n",
        "    \".c\": \"C\",\n",
        "    \".java\": \"JAVA\",\n",
        "    \".py\": \"PYTHON\",\n",
        "    \".rb\": \"RUBY\",\n",
        "    \".html\": \"HTML\",\n",
        "    \".css\": \"CSS\",\n",
        "    \".php\": \"PHP\",\n",
        "    \".sql\": \"SQL\",\n",
        "    \".cs\": \"C#\",\n",
        "    \".js\": \"JAVASCRIPT\",\n",
        "    \".go\": \"GO\",\n",
        "}"
      ],
      "execution_count": 0,
      "outputs": []
    },
    {
      "cell_type": "code",
      "metadata": {
        "id": "d9neqv5qR08s",
        "colab_type": "code",
        "outputId": "ac441a83-db30-4acd-c39d-eb33909e51c9",
        "colab": {
          "base_uri": "https://localhost:8080/",
          "height": 206
        }
      },
      "source": [
        "# Create the dataframe\n",
        "\n",
        "data = pd.read_csv(\"dataset.csv\")\n",
        "\n",
        "data = shuffle(data, random_state=22)\n",
        "data = data.dropna()\n",
        "\n",
        "data.head()"
      ],
      "execution_count": 5,
      "outputs": [
        {
          "output_type": "execute_result",
          "data": {
            "text/html": [
              "<div>\n",
              "<style scoped>\n",
              "    .dataframe tbody tr th:only-of-type {\n",
              "        vertical-align: middle;\n",
              "    }\n",
              "\n",
              "    .dataframe tbody tr th {\n",
              "        vertical-align: top;\n",
              "    }\n",
              "\n",
              "    .dataframe thead th {\n",
              "        text-align: right;\n",
              "    }\n",
              "</style>\n",
              "<table border=\"1\" class=\"dataframe\">\n",
              "  <thead>\n",
              "    <tr style=\"text-align: right;\">\n",
              "      <th></th>\n",
              "      <th>content</th>\n",
              "      <th>language</th>\n",
              "    </tr>\n",
              "  </thead>\n",
              "  <tbody>\n",
              "    <tr>\n",
              "      <th>7967</th>\n",
              "      <td>// Copyright 2014 The go-ethereum Authors\\n// ...</td>\n",
              "      <td>GO</td>\n",
              "    </tr>\n",
              "    <tr>\n",
              "      <th>7845</th>\n",
              "      <td>// Copyright 2013, Google Inc. All rights rese...</td>\n",
              "      <td>GO</td>\n",
              "    </tr>\n",
              "    <tr>\n",
              "      <th>2812</th>\n",
              "      <td># Copyright (c) 2003-2014 CORE Security Techno...</td>\n",
              "      <td>PYTHON</td>\n",
              "    </tr>\n",
              "    <tr>\n",
              "      <th>11944</th>\n",
              "      <td>/*\\n * Clover - 4chan browser https://github.c...</td>\n",
              "      <td>JAVA</td>\n",
              "    </tr>\n",
              "    <tr>\n",
              "      <th>15611</th>\n",
              "      <td>$LOAD_PATH.unshift File.expand_path('../../lib...</td>\n",
              "      <td>RUBY</td>\n",
              "    </tr>\n",
              "  </tbody>\n",
              "</table>\n",
              "</div>"
            ],
            "text/plain": [
              "                                                 content language\n",
              "7967   // Copyright 2014 The go-ethereum Authors\\n// ...       GO\n",
              "7845   // Copyright 2013, Google Inc. All rights rese...       GO\n",
              "2812   # Copyright (c) 2003-2014 CORE Security Techno...   PYTHON\n",
              "11944  /*\\n * Clover - 4chan browser https://github.c...     JAVA\n",
              "15611  $LOAD_PATH.unshift File.expand_path('../../lib...     RUBY"
            ]
          },
          "metadata": {
            "tags": []
          },
          "execution_count": 5
        }
      ]
    },
    {
      "cell_type": "code",
      "metadata": {
        "id": "simcY9jXEXri",
        "colab_type": "code",
        "outputId": "208077be-5928-456a-92cb-e134d52d935e",
        "colab": {
          "base_uri": "https://localhost:8080/",
          "height": 215
        }
      },
      "source": [
        "# Print how many languages are in the dataset\n",
        "\n",
        "for k, v in convert.items():\n",
        "    cust = data[\"language\"].apply(lambda lan: lan == v)\n",
        "    print(v, len(cust[cust == True]))"
      ],
      "execution_count": 6,
      "outputs": [
        {
          "output_type": "stream",
          "text": [
            "C 427\n",
            "JAVA 1931\n",
            "PYTHON 1630\n",
            "RUBY 3935\n",
            "HTML 574\n",
            "CSS 715\n",
            "PHP 2033\n",
            "SQL 1229\n",
            "C# 1958\n",
            "JAVASCRIPT 435\n",
            "GO 1487\n"
          ],
          "name": "stdout"
        }
      ]
    },
    {
      "cell_type": "code",
      "metadata": {
        "id": "qdeA0FkUANTD",
        "colab_type": "code",
        "outputId": "00f57501-5e93-44eb-b80d-e6d8cf9f4417",
        "colab": {
          "base_uri": "https://localhost:8080/",
          "height": 175
        }
      },
      "source": [
        "data.describe()"
      ],
      "execution_count": 7,
      "outputs": [
        {
          "output_type": "execute_result",
          "data": {
            "text/html": [
              "<div>\n",
              "<style scoped>\n",
              "    .dataframe tbody tr th:only-of-type {\n",
              "        vertical-align: middle;\n",
              "    }\n",
              "\n",
              "    .dataframe tbody tr th {\n",
              "        vertical-align: top;\n",
              "    }\n",
              "\n",
              "    .dataframe thead th {\n",
              "        text-align: right;\n",
              "    }\n",
              "</style>\n",
              "<table border=\"1\" class=\"dataframe\">\n",
              "  <thead>\n",
              "    <tr style=\"text-align: right;\">\n",
              "      <th></th>\n",
              "      <th>content</th>\n",
              "      <th>language</th>\n",
              "    </tr>\n",
              "  </thead>\n",
              "  <tbody>\n",
              "    <tr>\n",
              "      <th>count</th>\n",
              "      <td>16354</td>\n",
              "      <td>16354</td>\n",
              "    </tr>\n",
              "    <tr>\n",
              "      <th>unique</th>\n",
              "      <td>16354</td>\n",
              "      <td>11</td>\n",
              "    </tr>\n",
              "    <tr>\n",
              "      <th>top</th>\n",
              "      <td>&lt;?php\\nnamespace rz_shop_cart;\\n\\n\\nuse \\Cart\\...</td>\n",
              "      <td>RUBY</td>\n",
              "    </tr>\n",
              "    <tr>\n",
              "      <th>freq</th>\n",
              "      <td>1</td>\n",
              "      <td>3935</td>\n",
              "    </tr>\n",
              "  </tbody>\n",
              "</table>\n",
              "</div>"
            ],
            "text/plain": [
              "                                                  content language\n",
              "count                                               16354    16354\n",
              "unique                                              16354       11\n",
              "top     <?php\\nnamespace rz_shop_cart;\\n\\n\\nuse \\Cart\\...     RUBY\n",
              "freq                                                    1     3935"
            ]
          },
          "metadata": {
            "tags": []
          },
          "execution_count": 7
        }
      ]
    },
    {
      "cell_type": "code",
      "metadata": {
        "id": "S3GpJSV5TysR",
        "colab_type": "code",
        "outputId": "1b11afd9-0f26-4985-9dc7-3cfa4f5b964c",
        "colab": {
          "base_uri": "https://localhost:8080/",
          "height": 89
        }
      },
      "source": [
        "# One Hot Encoding on programming languages (labels)\n",
        "\n",
        "encoder = LabelBinarizer()\n",
        "lang_encoded = encoder.fit_transform(data[\"language\"].values)\n",
        "num_lang = len(lang_encoded[0])\n",
        "\n",
        "print(data['language'].values[0])\n",
        "print(encoder.classes_)\n",
        "print(lang_encoded[0])"
      ],
      "execution_count": 8,
      "outputs": [
        {
          "output_type": "stream",
          "text": [
            "GO\n",
            "['C' 'C#' 'CSS' 'GO' 'HTML' 'JAVA' 'JAVASCRIPT' 'PHP' 'PYTHON' 'RUBY'\n",
            " 'SQL']\n",
            "[0 0 0 1 0 0 0 0 0 0 0]\n"
          ],
          "name": "stdout"
        }
      ]
    },
    {
      "cell_type": "code",
      "metadata": {
        "id": "o0Mx4FguUbAw",
        "colab_type": "code",
        "outputId": "de1b3d55-c8d0-48b5-bd30-eb4f0f093389",
        "colab": {
          "base_uri": "https://localhost:8080/",
          "height": 53
        }
      },
      "source": [
        "# Split data into train and test sets (80 / 20)\n",
        "\n",
        "train_size = int(len(data) * .8)\n",
        "test_size = (len(data) - train_size)\n",
        "\n",
        "print(f\"Train size: {train_size}\")\n",
        "print (f\"Test size: {test_size}\")"
      ],
      "execution_count": 9,
      "outputs": [
        {
          "output_type": "stream",
          "text": [
            "Train size: 13083\n",
            "Test size: 3271\n"
          ],
          "name": "stdout"
        }
      ]
    },
    {
      "cell_type": "code",
      "metadata": {
        "id": "ZRbdQeGdUjet",
        "colab_type": "code",
        "colab": {}
      },
      "source": [
        "# Split labels into train and test sets\n",
        "\n",
        "train_lang = lang_encoded[:train_size]\n",
        "test_lang = lang_encoded[train_size:]"
      ],
      "execution_count": 0,
      "outputs": []
    },
    {
      "cell_type": "code",
      "metadata": {
        "id": "v7pV7edctRrH",
        "colab_type": "code",
        "colab": {}
      },
      "source": [
        "# Tokenize the features\n",
        "\n",
        "from tensorflow.keras.preprocessing import text\n",
        "\n",
        "VOCAB_SIZE = 10000 \n",
        "\n",
        "train_content = data['content'].values[:train_size]\n",
        "test_content = data['content'].values[train_size:]\n",
        "\n",
        "tokenizer = text.Tokenizer(num_words=VOCAB_SIZE)\n",
        "tokenizer.fit_on_texts(train_content)\n",
        "\n",
        "body_train = tokenizer.texts_to_matrix(train_content)\n",
        "body_test = tokenizer.texts_to_matrix(test_content)"
      ],
      "execution_count": 0,
      "outputs": []
    },
    {
      "cell_type": "code",
      "metadata": {
        "id": "-vYhQytlthcI",
        "colab_type": "code",
        "outputId": "d470f996-b8ca-4374-be38-6141e4808375",
        "colab": {
          "base_uri": "https://localhost:8080/",
          "height": 53
        }
      },
      "source": [
        "# Preview the first input from our training data\n",
        "\n",
        "print(len(body_train[0]))\n",
        "print(body_train[0])"
      ],
      "execution_count": 12,
      "outputs": [
        {
          "output_type": "stream",
          "text": [
            "10000\n",
            "[0. 0. 1. ... 0. 0. 0.]\n"
          ],
          "name": "stdout"
        }
      ]
    },
    {
      "cell_type": "code",
      "metadata": {
        "id": "LSjf1Ipz4-6h",
        "colab_type": "code",
        "outputId": "811789ea-9d21-4425-c6fd-be3315d5bdc5",
        "colab": {
          "base_uri": "https://localhost:8080/",
          "height": 326
        }
      },
      "source": [
        "# Create the model\n",
        "\n",
        "model = tf.keras.models.Sequential()\n",
        "model.add(tf.keras.layers.Dense(50, input_shape=(VOCAB_SIZE,), activation='relu'))\n",
        "model.add(tf.keras.layers.Dense(25, activation='relu'))\n",
        "model.add(tf.keras.layers.Dense(num_lang, activation='softmax'))\n",
        "\n",
        "model.compile(loss='binary_crossentropy', optimizer='adam', metrics=['accuracy'])\n",
        "\n",
        "model.summary()"
      ],
      "execution_count": 13,
      "outputs": [
        {
          "output_type": "stream",
          "text": [
            "WARNING:tensorflow:From /usr/local/lib/python3.6/dist-packages/tensorflow/python/ops/resource_variable_ops.py:435: colocate_with (from tensorflow.python.framework.ops) is deprecated and will be removed in a future version.\n",
            "Instructions for updating:\n",
            "Colocations handled automatically by placer.\n",
            "_________________________________________________________________\n",
            "Layer (type)                 Output Shape              Param #   \n",
            "=================================================================\n",
            "dense (Dense)                (None, 50)                500050    \n",
            "_________________________________________________________________\n",
            "dense_1 (Dense)              (None, 25)                1275      \n",
            "_________________________________________________________________\n",
            "dense_2 (Dense)              (None, 11)                286       \n",
            "=================================================================\n",
            "Total params: 501,611\n",
            "Trainable params: 501,611\n",
            "Non-trainable params: 0\n",
            "_________________________________________________________________\n"
          ],
          "name": "stdout"
        }
      ]
    },
    {
      "cell_type": "code",
      "metadata": {
        "id": "dvkOsqNt5no3",
        "colab_type": "code",
        "outputId": "9d94a313-0e21-4f19-ac3f-bce59d9399ca",
        "colab": {
          "base_uri": "https://localhost:8080/",
          "height": 506
        }
      },
      "source": [
        "# Train and evaluate the model\n",
        "\n",
        "model.fit(body_train, train_lang, epochs=10, batch_size=128, validation_split=0.1)\n",
        "\n",
        "print(\"Eval loss/accuracy: {}\".format(model.evaluate(body_test, test_lang, batch_size=128)))"
      ],
      "execution_count": 15,
      "outputs": [
        {
          "output_type": "stream",
          "text": [
            "Train on 11774 samples, validate on 1309 samples\n",
            "WARNING:tensorflow:From /usr/local/lib/python3.6/dist-packages/tensorflow/python/ops/math_ops.py:3066: to_int32 (from tensorflow.python.ops.math_ops) is deprecated and will be removed in a future version.\n",
            "Instructions for updating:\n",
            "Use tf.cast instead.\n",
            "Epoch 1/10\n",
            "11774/11774 [==============================] - 2s 210us/sample - loss: 0.1341 - acc: 0.9536 - val_loss: 0.0514 - val_acc: 0.9847\n",
            "Epoch 2/10\n",
            "11774/11774 [==============================] - 2s 169us/sample - loss: 0.0251 - acc: 0.9924 - val_loss: 0.0294 - val_acc: 0.9921\n",
            "Epoch 3/10\n",
            "11774/11774 [==============================] - 2s 173us/sample - loss: 0.0111 - acc: 0.9973 - val_loss: 0.0227 - val_acc: 0.9938\n",
            "Epoch 4/10\n",
            "11774/11774 [==============================] - 2s 168us/sample - loss: 0.0063 - acc: 0.9986 - val_loss: 0.0238 - val_acc: 0.9944\n",
            "Epoch 5/10\n",
            "11774/11774 [==============================] - 2s 167us/sample - loss: 0.0041 - acc: 0.9991 - val_loss: 0.0220 - val_acc: 0.9948\n",
            "Epoch 6/10\n",
            "11774/11774 [==============================] - 2s 169us/sample - loss: 0.0040 - acc: 0.9992 - val_loss: 0.0228 - val_acc: 0.9948\n",
            "Epoch 7/10\n",
            "11774/11774 [==============================] - 2s 168us/sample - loss: 0.0023 - acc: 0.9996 - val_loss: 0.0219 - val_acc: 0.9947\n",
            "Epoch 8/10\n",
            "11774/11774 [==============================] - 2s 171us/sample - loss: 0.0018 - acc: 0.9997 - val_loss: 0.0230 - val_acc: 0.9947\n",
            "Epoch 9/10\n",
            "11774/11774 [==============================] - 2s 168us/sample - loss: 0.0014 - acc: 0.9998 - val_loss: 0.0225 - val_acc: 0.9951\n",
            "Epoch 10/10\n",
            "11774/11774 [==============================] - 2s 169us/sample - loss: 0.0012 - acc: 0.9998 - val_loss: 0.0232 - val_acc: 0.9950\n",
            "3271/3271 [==============================] - 0s 78us/sample - loss: 0.0126 - acc: 0.9966\n",
            "Eval loss/accuracy: [0.012580081310410204, 0.9966093]\n"
          ],
          "name": "stdout"
        }
      ]
    },
    {
      "cell_type": "code",
      "metadata": {
        "id": "nMtAn5vS6RTm",
        "colab_type": "code",
        "colab": {}
      },
      "source": [
        "# Export the model to a file\n",
        "\n",
        "model.save('keras_saved_model.h5')"
      ],
      "execution_count": 0,
      "outputs": []
    },
    {
      "cell_type": "code",
      "metadata": {
        "id": "I4o9yJ-l8HF0",
        "colab_type": "code",
        "colab": {}
      },
      "source": [
        "# Save the processor state of the tokenizer\n",
        "\n",
        "import pickle\n",
        "\n",
        "with open('./tokenizer_state.pkl', 'wb') as f:\n",
        "  pickle.dump(tokenizer, f)"
      ],
      "execution_count": 0,
      "outputs": []
    },
    {
      "cell_type": "code",
      "metadata": {
        "id": "uqH3QKHd8aPI",
        "colab_type": "code",
        "outputId": "3e3cca38-9752-4b05-b0fb-be842f789971",
        "colab": {
          "base_uri": "https://localhost:8080/",
          "height": 35
        }
      },
      "source": [
        "%%writefile predictor.py\n",
        "import pickle\n",
        "import os\n",
        "import numpy as np\n",
        "\n",
        "\n",
        "class Predictor:\n",
        "  def __init__(self, model, processor):\n",
        "    self._model = model\n",
        "    self._processor = processor\n",
        "  \n",
        "  def predict(self, instances, **kwargs):\n",
        "    preprocessed_data = self._processor.texts_to_matrix(instances)\n",
        "    predictions = self._model.predict(preprocessed_data)\n",
        "    return predictions.tolist()\n",
        "\n",
        "  @classmethod\n",
        "  def from_path(cls, model_dir):\n",
        "    import tensorflow.keras as keras\n",
        "    model = keras.models.load_model(\n",
        "      os.path.join(model_dir,'keras_saved_model.h5'))\n",
        "    with open(os.path.join(model_dir, 'tokenizer_state.pkl'), 'rb') as f:\n",
        "      processor = pickle.load(f)\n",
        "\n",
        "    return cls(model, processor)"
      ],
      "execution_count": 18,
      "outputs": [
        {
          "output_type": "stream",
          "text": [
            "Writing predictor.py\n"
          ],
          "name": "stdout"
        }
      ]
    },
    {
      "cell_type": "code",
      "metadata": {
        "id": "85GLPEZe6oS2",
        "colab_type": "code",
        "outputId": "0c2f5377-c961-4a65-de20-5914d9177718",
        "colab": {
          "base_uri": "https://localhost:8080/",
          "height": 612
        }
      },
      "source": [
        "# Test model on custom data\n",
        "\n",
        "from predictor import Predictor\n",
        "\n",
        "\n",
        "test = [\n",
        "    \"\"\"var rows = prompt(\"How many rows for your multiplication table?\");\n",
        "    var cols = prompt(\"How many columns for your multiplication table?\");\n",
        "    if(rows == \"\" || rows == null)\n",
        "   \t\t rows = 10;\n",
        "    if(cols== \"\" || cols== null)\n",
        "   \t\t cols = 10;\n",
        "    createTable(rows, cols);\n",
        "    function createTable(rows, cols)\n",
        "    {\n",
        "      var j=1;\n",
        "      var output = \"<table border='1' width='500' cellspacing='0'cellpadding='5'>\";\n",
        "      for(i=1;i<=rows;i++)\n",
        "      {\n",
        "    \toutput = output + \"<tr>\";\n",
        "        while(j<=cols)\n",
        "        {\n",
        "  \t\t  output = output + \"<td>\" + i*j + \"</td>\";\n",
        "   \t\t  j = j+1;\n",
        "   \t\t}\n",
        "   \t\t output = output + \"</tr>\";\n",
        "   \t\t j = 1;\n",
        "    }\n",
        "    output = output + \"</table>\";\n",
        "    document.write(output);\n",
        "    }\"\"\",\n",
        "    \"\"\"<!DOCTYPE html>\n",
        "<html>\n",
        "<body>\n",
        "\n",
        "<h2>HTML Links</h2>\n",
        "<p>HTML links are defined with the a tag:</p>\n",
        "\n",
        "<a href=\"https://www.w3schools.com\">This is a link</a>\n",
        "\n",
        "</body>\n",
        "</html>\"\"\",\n",
        "    \"\"\"a:link {\n",
        "  color: gray;\n",
        "}\n",
        "\n",
        "a:visited {\n",
        "  color: green;\n",
        "}\n",
        "\n",
        "a:hover {\n",
        "  color: rebeccapurple;\n",
        "}\n",
        "\n",
        "a:active {\n",
        "  color: teal;\n",
        "}\"\"\",\n",
        "    \"\"\"#include <stdio.h>\n",
        "int main(){\n",
        "\n",
        "    int dividend, divisor, quotient, remainder;\n",
        "\n",
        "    printf(\"Enter dividend: \");\n",
        "    scanf(\"%d\", &dividend);\n",
        "\n",
        "    printf(\"Enter divisor: \");\n",
        "    scanf(\"%d\", &divisor);\n",
        "\n",
        "    // Computes quotient\n",
        "    quotient = dividend / divisor;\n",
        "\n",
        "    // Computes remainder\n",
        "    remainder = dividend % divisor;\n",
        "\n",
        "    printf(\"Quotient = %d\\n\", quotient);\n",
        "    printf(\"Remainder = %d\", remainder);\n",
        "\n",
        "    return 0;\n",
        "}\"\"\",\n",
        "    \"\"\"for i in (1..10)\n",
        "    rno = rand(100) + 1\n",
        "    msg = case rno\n",
        "        when 42: \"The ultimate result.\"\n",
        "        when 1..10: \"Way too small.\"\n",
        "        when 11..15,19,27: \"Sorry, too small\"\n",
        "        when 80..99: \"Way to large\"\n",
        "        when 100:\n",
        "                print \"TOPS\\n\"\n",
        "                \"Really way too large\"\n",
        "        else \"Just wrong\"\n",
        "    end\n",
        "    print \"Result: \", rno, \": \", msg, \"\\n\"\n",
        "end\"\"\",\n",
        "    \"\"\"import pickle\n",
        "import os\n",
        "import numpy as np\n",
        "\n",
        "\n",
        "class Predictor:\n",
        "    def __init__(self, model, processor):\n",
        "        self._model = model\n",
        "        self._processor = processor\n",
        "        self.languages = [\n",
        "            \"C\",\n",
        "            \"C#\",\n",
        "            \"CSS\",\n",
        "            \"GO\",\n",
        "            \"HTML\",\n",
        "            \"JAVA\",\n",
        "            \"JAVASCRIPT\",\n",
        "            \"PHP\",\n",
        "            \"PYTHON\",\n",
        "            \"RUBY\",\n",
        "            \"SQL\",\n",
        "        ]\n",
        "\n",
        "    def predict(self, instances, **kwargs):\n",
        "        preprocessed_data = self._processor.texts_to_matrix(instances)\n",
        "        predictions = self._model.predict(preprocessed_data)\n",
        "        return predictions.tolist()\n",
        "\n",
        "    @classmethod\n",
        "    def from_path(cls, model_dir):\n",
        "        import tensorflow.keras as keras\n",
        "\n",
        "        model = keras.models.load_model(os.path.join(model_dir, \"keras_saved_model.h5\"))\n",
        "        with open(os.path.join(model_dir, \"tokenizer_state.pkl\"), \"rb\") as f:\n",
        "            processor = pickle.load(f)\n",
        "\n",
        "        return cls(model, processor)\n",
        "\n",
        "\"\"\",\n",
        "    \"\"\"// In Go, an _array_ is a numbered sequence of elements of a\n",
        "// specific length.\n",
        "\n",
        "package main\n",
        "\n",
        "import \"fmt\"\n",
        "\n",
        "func main() {\n",
        "\n",
        "    // Here we create an array `a` that will hold exactly\n",
        "    // 5 `int`s. The type of elements and length are both\n",
        "    // part of the array's type. By default an array is\n",
        "    // zero-valued, which for `int`s means `0`s.\n",
        "    var a [5]int\n",
        "    fmt.Println(\"emp:\", a)\n",
        "\n",
        "    // We can set a value at an index using the\n",
        "    // `array[index] = value` syntax, and get a value with\n",
        "    // `array[index]`.\n",
        "    a[4] = 100\n",
        "    fmt.Println(\"set:\", a)\n",
        "    fmt.Println(\"get:\", a[4])\"\"\",\n",
        "    \"\"\"\n",
        "CREATE TABLE emp (\n",
        "empno INT PRIMARY KEY,\n",
        "ename VARCHAR(10),\n",
        "job VARCHAR(9),\n",
        "mgr INT NULL,\n",
        "hiredate DATETIME,\n",
        "sal NUMERIC(7,2),\n",
        "comm NUMERIC(7,2) NULL,\n",
        "dept INT)\n",
        "begin\n",
        "insert into emp values\n",
        "    (1,'JOHNSON','ADMIN',6,'12-17-1990',18000,NULL,4)\n",
        "insert into emp values\n",
        "    (2,'HARDING','MANAGER',9,'02-02-1998',52000,300,3)\n",
        "insert into emp values\n",
        "    (3,'TAFT','SALES I',2,'01-02-1996',25000,500,3)\n",
        "insert into emp values\n",
        "    (4,'HOOVER','SALES I',2,'04-02-1990',27000,NULL,3)\n",
        "insert into emp values\n",
        "    (5,'LINCOLN','TECH',6,'06-23-1994',22500,1400,4)\n",
        "insert into emp values\n",
        "    (6,'GARFIELD','MANAGER',9,'05-01-1993',54000,NULL,4)\n",
        "insert into emp values\n",
        "    (7,'POLK','TECH',6,'09-22-1997',25000,NULL,4)\n",
        "insert into emp values\n",
        "    (8,'GRANT','ENGINEER',10,'03-30-1997',32000,NULL,2)\n",
        "insert into emp values\n",
        "    (9,'JACKSON','CEO',NULL,'01-01-1990',75000,NULL,4)\n",
        "insert into emp values\n",
        "    (10,'FILLMORE','MANAGER',9,'08-09-1994',56000,NULL,2)\n",
        "insert into emp values\n",
        "    (11,'ADAMS','ENGINEER',10,'03-15-1996',34000,NULL,2)\n",
        "insert into emp values\n",
        "    (12,'WASHINGTON','ADMIN',6,'04-16-1998',18000,NULL,4)\n",
        "insert into emp values\n",
        "    (13,'MONROE','ENGINEER',10,'12-03-2000',30000,NULL,2)\n",
        "insert into emp values\n",
        "    (14,'ROOSEVELT','CPA',9,'10-12-1995',35000,NULL,1)\n",
        "end\n",
        "CREATE TABLE dept (\n",
        "deptno INT NOT NULL,\n",
        "dname VARCHAR(14),\n",
        "loc VARCHAR(13))\n",
        "begin\n",
        "insert into dept values (1,'ACCOUNTING','ST LOUIS')\n",
        "insert into dept values (2,'RESEARCH','NEW YORK')\n",
        "insert into dept values (3,'SALES','ATLANTA')\n",
        "insert into dept values (4, 'OPERATIONS','SEATTLE')\n",
        "end\n",
        "\"\"\",\n",
        "    \"\"\"if ( isset( $_FILES['fupload'] ) ) {\n",
        "\n",
        "     print \"name: \".     $_FILES['fupload']['name']       .\"<br />\";\n",
        "     print \"size: \".     $_FILES['fupload']['size'] .\" bytes<br />\";\n",
        "     print \"temp name: \".$_FILES['fupload']['tmp_name']   .\"<br />\";\n",
        "     print \"type: \".     $_FILES['fupload']['type']       .\"<br />\";\n",
        "     print \"error: \".    $_FILES['fupload']['error']      .\"<br />\";\n",
        "\n",
        "     if ( $_FILES['fupload']['type'] == \"image/gif\" ) {\n",
        "\n",
        "         $source = $_FILES['fupload']['tmp_name'];\n",
        "         $target = \"upload/\".$_FILES['fupload']['name'];\n",
        "         move_uploaded_file( $source, $target );// or die (\"Couldn't copy\");\n",
        "         $size = getImageSize( $target );\n",
        "\n",
        "         $imgstr = \"<p><img width=\\\"$size[0]\\\" height=\\\"$size[1]\\\" \";\n",
        "         $imgstr .= \"src=\\\"$target\\\" alt=\\\"uploaded image\\\" /></p>\";\n",
        "\n",
        "         print $imgstr;\n",
        "     }\n",
        " }\"\"\",\n",
        "    \"\"\"public partial class MyControl : UserControl\n",
        "{\n",
        "  public MyControl()\n",
        "  {\n",
        "    InitializeComponent();\n",
        "    ResizeRedraw = true;\n",
        "  }\n",
        "\n",
        "  protected override void OnPaintBackground(PaintEventArgs e)\n",
        "  {\n",
        "    base.OnPaintBackground(e);\n",
        "    // draw a blue ellipse into the control area\n",
        "    e.Graphics.FillEllipse(new SolidBrush(Color.Blue), 2, 2,\n",
        "      ClientRectangle.Width - 4, ClientRectangle.Height - 4);\n",
        "  }\n",
        "}\"\"\",\n",
        "    \"\"\"import java.util.Scanner;\n",
        "public class Demo {\n",
        "\n",
        "    public static void main(String[] args) {\n",
        "\n",
        "    \tint year;\n",
        "    \tScanner scan = new Scanner(System.in);\n",
        "    \tSystem.out.println(\"Enter any Year:\");\n",
        "    \tyear = scan.nextInt();\n",
        "    \tscan.close();\n",
        "        boolean isLeap = false;\n",
        "\n",
        "        if(year % 4 == 0)\n",
        "        {\n",
        "            if( year % 100 == 0)\n",
        "            {\n",
        "                if ( year % 400 == 0)\n",
        "                    isLeap = true;\n",
        "                else\n",
        "                    isLeap = false;\n",
        "            }\n",
        "            else\n",
        "                isLeap = true;\n",
        "        }\n",
        "        else {\n",
        "            isLeap = false;\n",
        "        }\n",
        "\n",
        "        if(isLeap==true)\n",
        "            System.out.println(year + \" is a Leap Year.\");\n",
        "        else\n",
        "            System.out.println(year + \" is not a Leap Year.\");\n",
        "    }\n",
        "}\"\"\",\n",
        "]\n",
        "\n",
        "\n",
        "predictor = Predictor.from_path(\".\")\n",
        "results = predictor.predict(test)\n",
        "\n",
        "for result in results:\n",
        "    print(\"Predicted labels:\")\n",
        "    max_pred = -10000\n",
        "    max_i = -1\n",
        "    for i, pred in enumerate(result):\n",
        "        if pred > max_pred:\n",
        "            max_i = i\n",
        "            max_pred = pred\n",
        "\n",
        "    print(encoder.classes_[max_i], max_pred)\n",
        "    print()\n"
      ],
      "execution_count": 32,
      "outputs": [
        {
          "output_type": "stream",
          "text": [
            "Predicted labels:\n",
            "JAVASCRIPT 0.6685922145843506\n",
            "\n",
            "Predicted labels:\n",
            "HTML 0.9625486731529236\n",
            "\n",
            "Predicted labels:\n",
            "CSS 0.9457711577415466\n",
            "\n",
            "Predicted labels:\n",
            "C 0.7276895046234131\n",
            "\n",
            "Predicted labels:\n",
            "RUBY 0.9799514412879944\n",
            "\n",
            "Predicted labels:\n",
            "PYTHON 0.9999970197677612\n",
            "\n",
            "Predicted labels:\n",
            "GO 0.9999423027038574\n",
            "\n",
            "Predicted labels:\n",
            "SQL 0.999998927116394\n",
            "\n",
            "Predicted labels:\n",
            "PHP 0.954882025718689\n",
            "\n",
            "Predicted labels:\n",
            "C# 0.6327311992645264\n",
            "\n",
            "Predicted labels:\n",
            "JAVA 0.9997807145118713\n",
            "\n"
          ],
          "name": "stdout"
        }
      ]
    }
  ]
}