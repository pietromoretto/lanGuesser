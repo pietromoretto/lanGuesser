{
  "nbformat": 4,
  "nbformat_minor": 0,
  "metadata": {
    "colab": {
      "name": "lanGuesser.ipynb",
      "version": "0.3.2",
      "provenance": []
    },
    "kernelspec": {
      "name": "python3",
      "display_name": "Python 3"
    }
  },
  "cells": [
    {
      "cell_type": "code",
      "metadata": {
        "id": "V_-ESGicRrz6",
        "colab_type": "code",
        "colab": {}
      },
      "source": [
        "import tensorflow as tf \n",
        "import pandas as pd\n",
        "import numpy as np \n",
        "\n",
        "from sklearn.preprocessing import LabelBinarizer\n",
        "from sklearn.utils import shuffle"
      ],
      "execution_count": 0,
      "outputs": []
    },
    {
      "cell_type": "code",
      "metadata": {
        "id": "krr-IGjBaZ6Z",
        "colab_type": "code",
        "outputId": "062889a3-66ba-42cb-fd2d-1b62df165078",
        "colab": {
          "base_uri": "https://localhost:8080/",
          "height": 71
        }
      },
      "source": [
        "# Download the dataset from GitHub repo\n",
        "\n",
        "!curl -O https://media.githubusercontent.com/media/pietromoretto/lanGuesser/master/dataset.csv"
      ],
      "execution_count": 0,
      "outputs": [
        {
          "output_type": "stream",
          "text": [
            "  % Total    % Received % Xferd  Average Speed   Time    Time     Time  Current\n",
            "                                 Dload  Upload   Total   Spent    Left  Speed\n",
            "100  109M  100  109M    0     0  40.4M      0  0:00:02  0:00:02 --:--:-- 40.3M\n"
          ],
          "name": "stdout"
        }
      ]
    },
    {
      "cell_type": "code",
      "metadata": {
        "id": "5ttzjmpDUc_Y",
        "colab_type": "code",
        "outputId": "c3f55a75-0728-47ea-ca24-9e2eed1245ea",
        "colab": {
          "base_uri": "https://localhost:8080/",
          "height": 53
        }
      },
      "source": [
        "!ls"
      ],
      "execution_count": 0,
      "outputs": [
        {
          "output_type": "stream",
          "text": [
            "dataset.csv  keras_saved_model.h5  __pycache__\ttokenizer_state.pkl\n",
            "gdrive\t     predictor.py\t   sample_data\n"
          ],
          "name": "stdout"
        }
      ]
    },
    {
      "cell_type": "code",
      "metadata": {
        "id": "iM04PZZJK-Fq",
        "colab_type": "code",
        "colab": {}
      },
      "source": [
        "convert = {\n",
        "    \".java\": \"JAVA\",\n",
        "    \".py\": \"PYTHON\",\n",
        "    \".html\": \"HTML\",\n",
        "    \".css\": \"CSS\",\n",
        "    \".php\": \"PHP\",\n",
        "    \".sql\": \"SQL\",\n",
        "    \".js\": \"JAVASCRIPT\",\n",
        "    \".go\": \"GO\",\n",
        "}"
      ],
      "execution_count": 0,
      "outputs": []
    },
    {
      "cell_type": "code",
      "metadata": {
        "id": "d9neqv5qR08s",
        "colab_type": "code",
        "outputId": "00d5b726-6181-4ee8-f4c3-eddd0c5bd3fd",
        "colab": {
          "base_uri": "https://localhost:8080/",
          "height": 206
        }
      },
      "source": [
        "# Create the dataframe\n",
        "\n",
        "data = pd.read_csv(\"dataset.csv\")\n",
        "\n",
        "data = shuffle(data, random_state=22)\n",
        "data = data.dropna()\n",
        "\n",
        "data.head()"
      ],
      "execution_count": 0,
      "outputs": [
        {
          "output_type": "execute_result",
          "data": {
            "text/html": [
              "<div>\n",
              "<style scoped>\n",
              "    .dataframe tbody tr th:only-of-type {\n",
              "        vertical-align: middle;\n",
              "    }\n",
              "\n",
              "    .dataframe tbody tr th {\n",
              "        vertical-align: top;\n",
              "    }\n",
              "\n",
              "    .dataframe thead th {\n",
              "        text-align: right;\n",
              "    }\n",
              "</style>\n",
              "<table border=\"1\" class=\"dataframe\">\n",
              "  <thead>\n",
              "    <tr style=\"text-align: right;\">\n",
              "      <th></th>\n",
              "      <th>content</th>\n",
              "      <th>language</th>\n",
              "    </tr>\n",
              "  </thead>\n",
              "  <tbody>\n",
              "    <tr>\n",
              "      <th>8870</th>\n",
              "      <td>/*\\n * Copyright 2013-2016 the original author...</td>\n",
              "      <td>JAVA</td>\n",
              "    </tr>\n",
              "    <tr>\n",
              "      <th>9607</th>\n",
              "      <td>/*\\n * Copyright (c) 2011 LinkedIn, Inc\\n * \\n...</td>\n",
              "      <td>JAVA</td>\n",
              "    </tr>\n",
              "    <tr>\n",
              "      <th>8424</th>\n",
              "      <td>package org.knowm.xchange.btce.v3.service.poll...</td>\n",
              "      <td>JAVA</td>\n",
              "    </tr>\n",
              "    <tr>\n",
              "      <th>4995</th>\n",
              "      <td>package qb\\n\\nimport (\\n\\t\"fmt\"\\n\\t\"strings\"\\n...</td>\n",
              "      <td>GO</td>\n",
              "    </tr>\n",
              "    <tr>\n",
              "      <th>219</th>\n",
              "      <td>﻿/*\\nCopyright (c) 2003-2013, CKSource - Frede...</td>\n",
              "      <td>JAVASCRIPT</td>\n",
              "    </tr>\n",
              "  </tbody>\n",
              "</table>\n",
              "</div>"
            ],
            "text/plain": [
              "                                                content    language\n",
              "8870  /*\\n * Copyright 2013-2016 the original author...        JAVA\n",
              "9607  /*\\n * Copyright (c) 2011 LinkedIn, Inc\\n * \\n...        JAVA\n",
              "8424  package org.knowm.xchange.btce.v3.service.poll...        JAVA\n",
              "4995  package qb\\n\\nimport (\\n\\t\"fmt\"\\n\\t\"strings\"\\n...          GO\n",
              "219   ﻿/*\\nCopyright (c) 2003-2013, CKSource - Frede...  JAVASCRIPT"
            ]
          },
          "metadata": {
            "tags": []
          },
          "execution_count": 41
        }
      ]
    },
    {
      "cell_type": "code",
      "metadata": {
        "id": "simcY9jXEXri",
        "colab_type": "code",
        "outputId": "415623fa-3152-4eb4-a1b5-69157620386d",
        "colab": {
          "base_uri": "https://localhost:8080/",
          "height": 215
        }
      },
      "source": [
        "# Print how many languages are in the dataset\n",
        "\n",
        "for k, v in convert.items():\n",
        "    cust = data[\"language\"].apply(lambda lan: lan == v)\n",
        "    print(v, len(cust[cust == True]))"
      ],
      "execution_count": 0,
      "outputs": [
        {
          "output_type": "stream",
          "text": [
            "C 0\n",
            "JAVA 1931\n",
            "PYTHON 1630\n",
            "RUBY 0\n",
            "HTML 574\n",
            "CSS 715\n",
            "PHP 2033\n",
            "SQL 1229\n",
            "C# 0\n",
            "JAVASCRIPT 435\n",
            "GO 1487\n"
          ],
          "name": "stdout"
        }
      ]
    },
    {
      "cell_type": "code",
      "metadata": {
        "id": "qdeA0FkUANTD",
        "colab_type": "code",
        "outputId": "7e4f18f1-76a9-4ccf-e4fa-138eef5d0eda",
        "colab": {
          "base_uri": "https://localhost:8080/",
          "height": 175
        }
      },
      "source": [
        "data.describe()"
      ],
      "execution_count": 0,
      "outputs": [
        {
          "output_type": "execute_result",
          "data": {
            "text/html": [
              "<div>\n",
              "<style scoped>\n",
              "    .dataframe tbody tr th:only-of-type {\n",
              "        vertical-align: middle;\n",
              "    }\n",
              "\n",
              "    .dataframe tbody tr th {\n",
              "        vertical-align: top;\n",
              "    }\n",
              "\n",
              "    .dataframe thead th {\n",
              "        text-align: right;\n",
              "    }\n",
              "</style>\n",
              "<table border=\"1\" class=\"dataframe\">\n",
              "  <thead>\n",
              "    <tr style=\"text-align: right;\">\n",
              "      <th></th>\n",
              "      <th>content</th>\n",
              "      <th>language</th>\n",
              "    </tr>\n",
              "  </thead>\n",
              "  <tbody>\n",
              "    <tr>\n",
              "      <th>count</th>\n",
              "      <td>10034</td>\n",
              "      <td>10034</td>\n",
              "    </tr>\n",
              "    <tr>\n",
              "      <th>unique</th>\n",
              "      <td>10034</td>\n",
              "      <td>8</td>\n",
              "    </tr>\n",
              "    <tr>\n",
              "      <th>top</th>\n",
              "      <td>// Copyright 2011 The Go Authors. All rights r...</td>\n",
              "      <td>PHP</td>\n",
              "    </tr>\n",
              "    <tr>\n",
              "      <th>freq</th>\n",
              "      <td>1</td>\n",
              "      <td>2033</td>\n",
              "    </tr>\n",
              "  </tbody>\n",
              "</table>\n",
              "</div>"
            ],
            "text/plain": [
              "                                                  content language\n",
              "count                                               10034    10034\n",
              "unique                                              10034        8\n",
              "top     // Copyright 2011 The Go Authors. All rights r...      PHP\n",
              "freq                                                    1     2033"
            ]
          },
          "metadata": {
            "tags": []
          },
          "execution_count": 43
        }
      ]
    },
    {
      "cell_type": "code",
      "metadata": {
        "id": "S3GpJSV5TysR",
        "colab_type": "code",
        "outputId": "0639eba0-d4c5-456b-8749-17dec0ed2da0",
        "colab": {
          "base_uri": "https://localhost:8080/",
          "height": 71
        }
      },
      "source": [
        "# One Hot Encoding on programming languages (labels)\n",
        "\n",
        "encoder = LabelBinarizer()\n",
        "lang_encoded = encoder.fit_transform(data[\"language\"].values)\n",
        "num_lang = len(lang_encoded[0])\n",
        "\n",
        "print(data['language'].values[0])\n",
        "print(encoder.classes_)\n",
        "print(lang_encoded[0])"
      ],
      "execution_count": 0,
      "outputs": [
        {
          "output_type": "stream",
          "text": [
            "JAVA\n",
            "['CSS' 'GO' 'HTML' 'JAVA' 'JAVASCRIPT' 'PHP' 'PYTHON' 'SQL']\n",
            "[0 0 0 1 0 0 0 0]\n"
          ],
          "name": "stdout"
        }
      ]
    },
    {
      "cell_type": "code",
      "metadata": {
        "id": "o0Mx4FguUbAw",
        "colab_type": "code",
        "outputId": "b07f0e81-7341-4b2a-db32-13c6fea16fc1",
        "colab": {
          "base_uri": "https://localhost:8080/",
          "height": 53
        }
      },
      "source": [
        "# Split data into train and test sets (80 / 20)\n",
        "\n",
        "train_size = int(len(data) * .8)\n",
        "test_size = (len(data) - train_size)\n",
        "\n",
        "print(f\"Train size: {train_size}\")\n",
        "print (f\"Test size: {test_size}\")"
      ],
      "execution_count": 0,
      "outputs": [
        {
          "output_type": "stream",
          "text": [
            "Train size: 8027\n",
            "Test size: 2007\n"
          ],
          "name": "stdout"
        }
      ]
    },
    {
      "cell_type": "code",
      "metadata": {
        "id": "ZRbdQeGdUjet",
        "colab_type": "code",
        "colab": {}
      },
      "source": [
        "# Split labels into train and test sets\n",
        "\n",
        "train_lang = lang_encoded[:train_size]\n",
        "test_lang = lang_encoded[train_size:]"
      ],
      "execution_count": 0,
      "outputs": []
    },
    {
      "cell_type": "code",
      "metadata": {
        "id": "v7pV7edctRrH",
        "colab_type": "code",
        "colab": {}
      },
      "source": [
        "# Tokenize the features\n",
        "\n",
        "from tensorflow.keras.preprocessing import text\n",
        "\n",
        "VOCAB_SIZE = 4000 \n",
        "\n",
        "train_content = data['content'].values[:train_size]\n",
        "test_content = data['content'].values[train_size:]\n",
        "\n",
        "tokenizer = text.Tokenizer(num_words=VOCAB_SIZE)\n",
        "tokenizer.fit_on_texts(train_content)\n",
        "\n",
        "body_train = tokenizer.texts_to_matrix(train_content)\n",
        "body_test = tokenizer.texts_to_matrix(test_content)"
      ],
      "execution_count": 0,
      "outputs": []
    },
    {
      "cell_type": "code",
      "metadata": {
        "id": "-vYhQytlthcI",
        "colab_type": "code",
        "outputId": "d334592f-d7c3-46c7-ab08-c6b3168c10a1",
        "colab": {
          "base_uri": "https://localhost:8080/",
          "height": 53
        }
      },
      "source": [
        "# Preview the first input from our training data\n",
        "\n",
        "print(len(body_train[0]))\n",
        "print(body_train[0])"
      ],
      "execution_count": 0,
      "outputs": [
        {
          "output_type": "stream",
          "text": [
            "4000\n",
            "[0. 1. 1. ... 0. 0. 0.]\n"
          ],
          "name": "stdout"
        }
      ]
    },
    {
      "cell_type": "code",
      "metadata": {
        "id": "LSjf1Ipz4-6h",
        "colab_type": "code",
        "outputId": "8e049e17-2746-4258-a7ff-44d4a52d0eb9",
        "colab": {
          "base_uri": "https://localhost:8080/",
          "height": 251
        }
      },
      "source": [
        "# Create the model\n",
        "\n",
        "model = tf.keras.models.Sequential()\n",
        "model.add(tf.keras.layers.Dense(50, input_shape=(VOCAB_SIZE,), activation='relu'))\n",
        "model.add(tf.keras.layers.Dense(25, activation='relu'))\n",
        "model.add(tf.keras.layers.Dense(num_lang, activation='softmax'))\n",
        "\n",
        "model.compile(loss='binary_crossentropy', optimizer='adam', metrics=['accuracy'])\n",
        "\n",
        "model.summary()"
      ],
      "execution_count": 0,
      "outputs": [
        {
          "output_type": "stream",
          "text": [
            "_________________________________________________________________\n",
            "Layer (type)                 Output Shape              Param #   \n",
            "=================================================================\n",
            "dense_13 (Dense)             (None, 50)                200050    \n",
            "_________________________________________________________________\n",
            "dense_14 (Dense)             (None, 25)                1275      \n",
            "_________________________________________________________________\n",
            "dense_15 (Dense)             (None, 8)                 208       \n",
            "=================================================================\n",
            "Total params: 201,533\n",
            "Trainable params: 201,533\n",
            "Non-trainable params: 0\n",
            "_________________________________________________________________\n"
          ],
          "name": "stdout"
        }
      ]
    },
    {
      "cell_type": "code",
      "metadata": {
        "id": "dvkOsqNt5no3",
        "colab_type": "code",
        "outputId": "d34d469a-a1a3-4da9-c70d-6db12eda38c9",
        "colab": {
          "base_uri": "https://localhost:8080/",
          "height": 452
        }
      },
      "source": [
        "# Train and evaluate the model\n",
        "\n",
        "model.fit(body_train, train_lang, epochs=10, batch_size=128, validation_split=0.1)\n",
        "\n",
        "print(\"Eval loss/accuracy: {}\".format(model.evaluate(body_test, test_lang, batch_size=128)))"
      ],
      "execution_count": 0,
      "outputs": [
        {
          "output_type": "stream",
          "text": [
            "Train on 7224 samples, validate on 803 samples\n",
            "Epoch 1/10\n",
            "7224/7224 [==============================] - 1s 189us/sample - loss: 0.2140 - acc: 0.9210 - val_loss: 0.1040 - val_acc: 0.9622\n",
            "Epoch 2/10\n",
            "7224/7224 [==============================] - 1s 92us/sample - loss: 0.0532 - acc: 0.9823 - val_loss: 0.0473 - val_acc: 0.9868\n",
            "Epoch 3/10\n",
            "7224/7224 [==============================] - 1s 91us/sample - loss: 0.0228 - acc: 0.9941 - val_loss: 0.0366 - val_acc: 0.9911\n",
            "Epoch 4/10\n",
            "7224/7224 [==============================] - 1s 92us/sample - loss: 0.0132 - acc: 0.9969 - val_loss: 0.0278 - val_acc: 0.9939\n",
            "Epoch 5/10\n",
            "7224/7224 [==============================] - 1s 89us/sample - loss: 0.0085 - acc: 0.9981 - val_loss: 0.0262 - val_acc: 0.9947\n",
            "Epoch 6/10\n",
            "7224/7224 [==============================] - 1s 89us/sample - loss: 0.0061 - acc: 0.9988 - val_loss: 0.0252 - val_acc: 0.9946\n",
            "Epoch 7/10\n",
            "7224/7224 [==============================] - 1s 87us/sample - loss: 0.0046 - acc: 0.9992 - val_loss: 0.0256 - val_acc: 0.9939\n",
            "Epoch 8/10\n",
            "7224/7224 [==============================] - 1s 90us/sample - loss: 0.0036 - acc: 0.9994 - val_loss: 0.0248 - val_acc: 0.9941\n",
            "Epoch 9/10\n",
            "7224/7224 [==============================] - 1s 87us/sample - loss: 0.0029 - acc: 0.9995 - val_loss: 0.0250 - val_acc: 0.9944\n",
            "Epoch 10/10\n",
            "7224/7224 [==============================] - 1s 85us/sample - loss: 0.0024 - acc: 0.9995 - val_loss: 0.0248 - val_acc: 0.9949\n",
            "2007/2007 [==============================] - 0s 39us/sample - loss: 0.0195 - acc: 0.9953\n",
            "Eval loss/accuracy: [0.019457512175526024, 0.99532884]\n"
          ],
          "name": "stdout"
        }
      ]
    },
    {
      "cell_type": "code",
      "metadata": {
        "id": "nMtAn5vS6RTm",
        "colab_type": "code",
        "colab": {}
      },
      "source": [
        "# Export the model to a file\n",
        "\n",
        "model.save('keras_saved_model.h5')"
      ],
      "execution_count": 0,
      "outputs": []
    },
    {
      "cell_type": "code",
      "metadata": {
        "id": "I4o9yJ-l8HF0",
        "colab_type": "code",
        "colab": {}
      },
      "source": [
        "# Save the processor state of the tokenizer\n",
        "\n",
        "import pickle\n",
        "\n",
        "with open('./tokenizer_state.pkl', 'wb') as f:\n",
        "  pickle.dump(tokenizer, f)"
      ],
      "execution_count": 0,
      "outputs": []
    },
    {
      "cell_type": "code",
      "metadata": {
        "id": "uqH3QKHd8aPI",
        "colab_type": "code",
        "outputId": "60237dc9-0760-43a9-c4c0-2f9ad66b034f",
        "colab": {
          "base_uri": "https://localhost:8080/",
          "height": 35
        }
      },
      "source": [
        "%%writefile predictor.py\n",
        "import pickle\n",
        "import os\n",
        "import numpy as np\n",
        "\n",
        "\n",
        "class Predictor:\n",
        "  def __init__(self, model, processor):\n",
        "    self._model = model\n",
        "    self._processor = processor\n",
        "  \n",
        "  def predict(self, instances, **kwargs):\n",
        "    preprocessed_data = self._processor.texts_to_matrix(instances)\n",
        "    predictions = self._model.predict(preprocessed_data)\n",
        "    return predictions.tolist()\n",
        "\n",
        "  @classmethod\n",
        "  def from_path(cls, model_dir):\n",
        "    import tensorflow.keras as keras\n",
        "    model = keras.models.load_model(\n",
        "      os.path.join(model_dir,'keras_saved_model.h5'))\n",
        "    with open(os.path.join(model_dir, 'tokenizer_state.pkl'), 'rb') as f:\n",
        "      processor = pickle.load(f)\n",
        "\n",
        "    return cls(model, processor)"
      ],
      "execution_count": 0,
      "outputs": [
        {
          "output_type": "stream",
          "text": [
            "Overwriting predictor.py\n"
          ],
          "name": "stdout"
        }
      ]
    },
    {
      "cell_type": "code",
      "metadata": {
        "id": "85GLPEZe6oS2",
        "colab_type": "code",
        "outputId": "340887a1-f28b-4558-937d-5b06e3b39583",
        "colab": {
          "base_uri": "https://localhost:8080/",
          "height": 612
        }
      },
      "source": [
        "# Test model on custom data\n",
        "\n",
        "from predictor import Predictor\n",
        "\n",
        "\n",
        "test = [\n",
        "    \"\"\"var rows = prompt(\"How many rows for your multiplication table?\");\n",
        "    var cols = prompt(\"How many columns for your multiplication table?\");\n",
        "    if(rows == \"\" || rows == null)\n",
        "   \t\t rows = 10;\n",
        "    if(cols== \"\" || cols== null)\n",
        "   \t\t cols = 10;\n",
        "    createTable(rows, cols);\n",
        "    function createTable(rows, cols)\n",
        "    {\n",
        "      var j=1;\n",
        "      var output = \"<table border='1' width='500' cellspacing='0'cellpadding='5'>\";\n",
        "      for(i=1;i<=rows;i++)\n",
        "      {\n",
        "    \toutput = output + \"<tr>\";\n",
        "        while(j<=cols)\n",
        "        {\n",
        "  \t\t  output = output + \"<td>\" + i*j + \"</td>\";\n",
        "   \t\t  j = j+1;\n",
        "   \t\t}\n",
        "   \t\t output = output + \"</tr>\";\n",
        "   \t\t j = 1;\n",
        "    }\n",
        "    output = output + \"</table>\";\n",
        "    document.write(output);\n",
        "    }\"\"\",\n",
        "    \"\"\"<!DOCTYPE html>\n",
        "<html>\n",
        "<body>\n",
        "\n",
        "<h2>HTML Links</h2>\n",
        "<p>HTML links are defined with the a tag:</p>\n",
        "\n",
        "<a href=\"https://www.w3schools.com\">This is a link</a>\n",
        "\n",
        "</body>\n",
        "</html>\"\"\",\n",
        "    \"\"\"a:link {\n",
        "  color: gray;\n",
        "}\n",
        "\n",
        "a:visited {\n",
        "  color: green;\n",
        "}\n",
        "\n",
        "a:hover {\n",
        "  color: rebeccapurple;\n",
        "}\n",
        "\n",
        "a:active {\n",
        "  color: teal;\n",
        "}\"\"\",\n",
        "    \"\"\"import pickle\n",
        "import os\n",
        "import numpy as np\n",
        "\n",
        "\n",
        "class Predictor:\n",
        "    def __init__(self, model, processor):\n",
        "        self._model = model\n",
        "        self._processor = processor\n",
        "        self.languages = [\n",
        "            \"C\",\n",
        "            \"C#\",\n",
        "            \"CSS\",\n",
        "            \"GO\",\n",
        "            \"HTML\",\n",
        "            \"JAVA\",\n",
        "            \"JAVASCRIPT\",\n",
        "            \"PHP\",\n",
        "            \"PYTHON\",\n",
        "            \"RUBY\",\n",
        "            \"SQL\",\n",
        "        ]\n",
        "\n",
        "    def predict(self, instances, **kwargs):\n",
        "        preprocessed_data = self._processor.texts_to_matrix(instances)\n",
        "        predictions = self._model.predict(preprocessed_data)\n",
        "        return predictions.tolist()\n",
        "\n",
        "    @classmethod\n",
        "    def from_path(cls, model_dir):\n",
        "        import tensorflow.keras as keras\n",
        "\n",
        "        model = keras.models.load_model(os.path.join(model_dir, \"keras_saved_model.h5\"))\n",
        "        with open(os.path.join(model_dir, \"tokenizer_state.pkl\"), \"rb\") as f:\n",
        "            processor = pickle.load(f)\n",
        "\n",
        "        return cls(model, processor)\n",
        "\n",
        "\"\"\",\n",
        "    \"\"\"// In Go, an _array_ is a numbered sequence of elements of a\n",
        "// specific length.\n",
        "\n",
        "package main\n",
        "\n",
        "import \"fmt\"\n",
        "\n",
        "func main() {\n",
        "\n",
        "    // Here we create an array `a` that will hold exactly\n",
        "    // 5 `int`s. The type of elements and length are both\n",
        "    // part of the array's type. By default an array is\n",
        "    // zero-valued, which for `int`s means `0`s.\n",
        "    var a [5]int\n",
        "    fmt.Println(\"emp:\", a)\n",
        "\n",
        "    // We can set a value at an index using the\n",
        "    // `array[index] = value` syntax, and get a value with\n",
        "    // `array[index]`.\n",
        "    a[4] = 100\n",
        "    fmt.Println(\"set:\", a)\n",
        "    fmt.Println(\"get:\", a[4])\"\"\",\n",
        "    \"\"\"\n",
        "CREATE TABLE emp (\n",
        "empno INT PRIMARY KEY,\n",
        "ename VARCHAR(10),\n",
        "job VARCHAR(9),\n",
        "mgr INT NULL,\n",
        "hiredate DATETIME,\n",
        "sal NUMERIC(7,2),\n",
        "comm NUMERIC(7,2) NULL,\n",
        "dept INT)\n",
        "begin\n",
        "insert into emp values\n",
        "    (1,'JOHNSON','ADMIN',6,'12-17-1990',18000,NULL,4)\n",
        "insert into emp values\n",
        "    (2,'HARDING','MANAGER',9,'02-02-1998',52000,300,3)\n",
        "insert into emp values\n",
        "    (3,'TAFT','SALES I',2,'01-02-1996',25000,500,3)\n",
        "insert into emp values\n",
        "    (4,'HOOVER','SALES I',2,'04-02-1990',27000,NULL,3)\n",
        "insert into emp values\n",
        "    (5,'LINCOLN','TECH',6,'06-23-1994',22500,1400,4)\n",
        "insert into emp values\n",
        "    (6,'GARFIELD','MANAGER',9,'05-01-1993',54000,NULL,4)\n",
        "insert into emp values\n",
        "    (7,'POLK','TECH',6,'09-22-1997',25000,NULL,4)\n",
        "insert into emp values\n",
        "    (8,'GRANT','ENGINEER',10,'03-30-1997',32000,NULL,2)\n",
        "insert into emp values\n",
        "    (9,'JACKSON','CEO',NULL,'01-01-1990',75000,NULL,4)\n",
        "insert into emp values\n",
        "    (10,'FILLMORE','MANAGER',9,'08-09-1994',56000,NULL,2)\n",
        "insert into emp values\n",
        "    (11,'ADAMS','ENGINEER',10,'03-15-1996',34000,NULL,2)\n",
        "insert into emp values\n",
        "    (12,'WASHINGTON','ADMIN',6,'04-16-1998',18000,NULL,4)\n",
        "insert into emp values\n",
        "    (13,'MONROE','ENGINEER',10,'12-03-2000',30000,NULL,2)\n",
        "insert into emp values\n",
        "    (14,'ROOSEVELT','CPA',9,'10-12-1995',35000,NULL,1)\n",
        "end\n",
        "CREATE TABLE dept (\n",
        "deptno INT NOT NULL,\n",
        "dname VARCHAR(14),\n",
        "loc VARCHAR(13))\n",
        "begin\n",
        "insert into dept values (1,'ACCOUNTING','ST LOUIS')\n",
        "insert into dept values (2,'RESEARCH','NEW YORK')\n",
        "insert into dept values (3,'SALES','ATLANTA')\n",
        "insert into dept values (4, 'OPERATIONS','SEATTLE')\n",
        "end\n",
        "\"\"\",\n",
        "    \"\"\"if ( isset( $_FILES['fupload'] ) ) {\n",
        "\n",
        "     print \"name: \".     $_FILES['fupload']['name']       .\"<br />\";\n",
        "     print \"size: \".     $_FILES['fupload']['size'] .\" bytes<br />\";\n",
        "     print \"temp name: \".$_FILES['fupload']['tmp_name']   .\"<br />\";\n",
        "     print \"type: \".     $_FILES['fupload']['type']       .\"<br />\";\n",
        "     print \"error: \".    $_FILES['fupload']['error']      .\"<br />\";\n",
        "\n",
        "     if ( $_FILES['fupload']['type'] == \"image/gif\" ) {\n",
        "\n",
        "         $source = $_FILES['fupload']['tmp_name'];\n",
        "         $target = \"upload/\".$_FILES['fupload']['name'];\n",
        "         move_uploaded_file( $source, $target );// or die (\"Couldn't copy\");\n",
        "         $size = getImageSize( $target );\n",
        "\n",
        "         $imgstr = \"<p><img width=\\\"$size[0]\\\" height=\\\"$size[1]\\\" \";\n",
        "         $imgstr .= \"src=\\\"$target\\\" alt=\\\"uploaded image\\\" /></p>\";\n",
        "\n",
        "         print $imgstr;\n",
        "     }\n",
        " }\"\"\",\n",
        "    \"\"\"import java.util.Scanner;\n",
        "public class Demo {\n",
        "\n",
        "    public static void main(String[] args) {\n",
        "\n",
        "    \tint year;\n",
        "    \tScanner scan = new Scanner(System.in);\n",
        "    \tSystem.out.println(\"Enter any Year:\");\n",
        "    \tyear = scan.nextInt();\n",
        "    \tscan.close();\n",
        "        boolean isLeap = false;\n",
        "\n",
        "        if(year % 4 == 0)\n",
        "        {\n",
        "            if( year % 100 == 0)\n",
        "            {\n",
        "                if ( year % 400 == 0)\n",
        "                    isLeap = true;\n",
        "                else\n",
        "                    isLeap = false;\n",
        "            }\n",
        "            else\n",
        "                isLeap = true;\n",
        "        }\n",
        "        else {\n",
        "            isLeap = false;\n",
        "        }\n",
        "\n",
        "        if(isLeap==true)\n",
        "            System.out.println(year + \" is a Leap Year.\");\n",
        "        else\n",
        "            System.out.println(year + \" is not a Leap Year.\");\n",
        "    }\n",
        "}\"\"\",\"\"\"print(\"A\")\"\"\",\n",
        "    \"\"\"function a(){\n",
        "          console.log(3);\n",
        "        }\"\"\",\n",
        "    \"\"\"select * from table\"\"\"\n",
        "]\n",
        "\n",
        "\n",
        "predictor = Predictor.from_path(\".\")\n",
        "results = predictor.predict(test)\n",
        "\n",
        "for result in results:\n",
        "    print(\"Predicted labels:\")\n",
        "    max_pred = -10000\n",
        "    max_i = -1\n",
        "    for i, pred in enumerate(result):\n",
        "        if pred > max_pred:\n",
        "            max_i = i\n",
        "            max_pred = pred\n",
        "\n",
        "    print(encoder.classes_[max_i], max_pred)\n",
        "    print()\n"
      ],
      "execution_count": 0,
      "outputs": [
        {
          "output_type": "stream",
          "text": [
            "Predicted labels:\n",
            "JAVASCRIPT 0.7671231031417847\n",
            "\n",
            "Predicted labels:\n",
            "HTML 0.9057226181030273\n",
            "\n",
            "Predicted labels:\n",
            "CSS 0.971668541431427\n",
            "\n",
            "Predicted labels:\n",
            "PYTHON 0.9999939203262329\n",
            "\n",
            "Predicted labels:\n",
            "GO 0.9993784427642822\n",
            "\n",
            "Predicted labels:\n",
            "SQL 0.9999995231628418\n",
            "\n",
            "Predicted labels:\n",
            "PHP 0.8473194241523743\n",
            "\n",
            "Predicted labels:\n",
            "JAVA 0.999915599822998\n",
            "\n",
            "Predicted labels:\n",
            "PYTHON 0.5491448640823364\n",
            "\n",
            "Predicted labels:\n",
            "JAVASCRIPT 0.4530501663684845\n",
            "\n",
            "Predicted labels:\n",
            "SQL 0.9729054570198059\n",
            "\n"
          ],
          "name": "stdout"
        }
      ]
    }
  ]
}